{
 "cells": [
  {
   "cell_type": "code",
   "execution_count": 1,
   "id": "c709b8d0",
   "metadata": {},
   "outputs": [],
   "source": [
    "import numpy as np"
   ]
  },
  {
   "cell_type": "code",
   "execution_count": 2,
   "id": "78b746c0",
   "metadata": {},
   "outputs": [],
   "source": [
    "np.set_printoptions(precision=4, suppress=True)"
   ]
  },
  {
   "cell_type": "code",
   "execution_count": null,
   "id": "4bbc7d88",
   "metadata": {},
   "outputs": [
    {
     "data": {
      "text/plain": [
       "array([  0.    ,  -8.5935, 133.9665,  32.5414, 132.9665,  57.6461,\n",
       "        55.0637,  -3.2304,  30.2418,  -7.5935])"
      ]
     },
     "execution_count": 19,
     "metadata": {},
     "output_type": "execute_result"
    }
   ],
   "source": [
    "# Asymmetric range\n",
    "params = np.random.uniform(low=-50, high=150, size=10)\n",
    "\n",
    "params[0] = 0\n",
    "params[1] = np.min(params) - 1 # min value\n",
    "params[2] = np.max(params) + 1 # max value\n",
    "\n",
    "params = np.round(params, decimals=4)\n",
    "\n",
    "params"
   ]
  },
  {
   "cell_type": "code",
   "execution_count": 20,
   "id": "447f9d0e",
   "metadata": {},
   "outputs": [],
   "source": [
    "# ===== Symmetric Quantization =====\n",
    "\n",
    "def symmetric_quantization(params, bits):\n",
    "    alpha = np.max(np.abs(params))\n",
    "    # strictly symmetrical bounds\n",
    "    lower_limit = - (2**(bits - 1) - 1)\n",
    "    upper_limit = 2**(bits - 1) - 1 \n",
    "    # scale\n",
    "    scale = alpha / upper_limit\n",
    "\n",
    "    q_params = np.round(params / scale).astype(int)\n",
    "    q_params = np.clip(q_params, lower_limit, upper_limit)\n",
    "\n",
    "    return q_params, scale\n",
    "\n",
    "def symmetric_dequantization(q_params, scale):\n",
    "    return q_params * scale\n",
    "\n",
    "# ===== Assymetric Quantization ====\n",
    "\n",
    "def asymmetric_quantization(params, bits):\n",
    "    alpha = np.max(params)\n",
    "    beta = np.min(params)\n",
    "    # bounds\n",
    "    lower_limit = 0\n",
    "    upper_limit = 2**bits - 1\n",
    "    # scale\n",
    "    scale = (alpha - beta) / upper_limit\n",
    "    # zero\n",
    "    zero = np.round(-1 * np.round(beta / scale))\n",
    "\n",
    "    q_params = np.round(params / scale + zero).astype(int)\n",
    "    q_params = np.clip(q_params, lower_limit, upper_limit)\n",
    "\n",
    "    return q_params, scale, zero\n",
    "\n",
    "def asymmetric_dequantization(q_params, scale, zero):\n",
    "    return (q_params - zero) * scale\n",
    "\n",
    "# calculate quantization error\n",
    "def mse(params, q_params):\n",
    "    return (params - q_params) ** 2"
   ]
  },
  {
   "cell_type": "code",
   "execution_count": 21,
   "id": "7c812ecc",
   "metadata": {},
   "outputs": [
    {
     "name": "stdout",
     "output_type": "stream",
     "text": [
      "Parameters:\n",
      "[  0.      -8.5935 133.9665  32.5414 132.9665  57.6461  55.0637  -3.2304\n",
      "  30.2418  -7.5935]\n",
      "\n",
      "Quantized Symmetric:\n",
      "[  0.      -8.4388 133.9665  32.7005 132.9116  58.017   54.8524  -3.1646\n",
      "  30.5908  -7.384 ]\n",
      "scale: 1.0548543307086613\n",
      "\n",
      "Dequantized Symmetric: [  0.      -8.4388 133.9665  32.7005 132.9116  58.017   54.8524  -3.1646\n",
      "  30.5908  -7.384 ]\n",
      "\n",
      "Quantized error: 0.0404\n"
     ]
    }
   ],
   "source": [
    "q_params, scale = symmetric_quantization(params, bits=8)\n",
    "dq_params = symmetric_dequantization(q_params, scale)\n",
    "q_error = mse(params, dq_params)\n",
    "\n",
    "print(f\"Parameters:\")\n",
    "print(params)\n",
    "print(\"\")\n",
    "print(f\"Quantized Symmetric:\")\n",
    "print(dq_params)\n",
    "print(f\"scale: {scale}\")\n",
    "print(\"\")\n",
    "print(f\"Dequantized Symmetric: {dq_params}\")\n",
    "print(\"\")\n",
    "print(f\"Quantized error: {np.mean(q_error):.4f}\")\n"
   ]
  },
  {
   "cell_type": "code",
   "execution_count": 22,
   "id": "c2b5c785",
   "metadata": {},
   "outputs": [
    {
     "name": "stdout",
     "output_type": "stream",
     "text": [
      "Parameters:\n",
      "[  0.      -8.5935 133.9665  32.5414 132.9665  57.6461  55.0637  -3.2304\n",
      "  30.2418  -7.5935]\n",
      "\n",
      "Quantized Asymmetric:\n",
      "[  0.      -8.3859 134.1741  32.4254 133.056   57.5831  54.7878  -3.3544\n",
      "  30.1892  -7.8268]\n",
      "scale: 0.5590588235294117\n",
      "\n",
      "Dequantized Asymmetric: [  0.      -8.3859 134.1741  32.4254 133.056   57.5831  54.7878  -3.3544\n",
      "  30.1892  -7.8268]\n",
      "\n",
      "Quantized error: 0.0260\n"
     ]
    }
   ],
   "source": [
    "q_params, scale, zero = asymmetric_quantization(params, bits=8)\n",
    "dq_params = asymmetric_dequantization(q_params, scale, zero)\n",
    "q_error = mse(params, dq_params)\n",
    "\n",
    "\n",
    "print(f\"Parameters:\")\n",
    "print(params)\n",
    "print(\"\")\n",
    "print(f\"Quantized Asymmetric:\")\n",
    "print(dq_params)\n",
    "print(f\"scale: {scale}\")\n",
    "print(\"\")\n",
    "print(f\"Dequantized Asymmetric: {dq_params}\")\n",
    "print(\"\")\n",
    "print(f\"Quantized error: {np.mean(q_error):.4f}\")\n"
   ]
  },
  {
   "cell_type": "code",
   "execution_count": null,
   "id": "8dd78422",
   "metadata": {},
   "outputs": [],
   "source": []
  }
 ],
 "metadata": {
  "kernelspec": {
   "display_name": "Python 3",
   "language": "python",
   "name": "python3"
  },
  "language_info": {
   "codemirror_mode": {
    "name": "ipython",
    "version": 3
   },
   "file_extension": ".py",
   "mimetype": "text/x-python",
   "name": "python",
   "nbconvert_exporter": "python",
   "pygments_lexer": "ipython3",
   "version": "3.13.1"
  }
 },
 "nbformat": 4,
 "nbformat_minor": 5
}
